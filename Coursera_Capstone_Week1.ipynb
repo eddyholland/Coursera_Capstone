{
 "cells": [
  {
   "cell_type": "markdown",
   "metadata": {},
   "source": [
    "# Coursera Capstone - Applied Data Science #\n"
   ]
  },
  {
   "cell_type": "markdown",
   "metadata": {},
   "source": [
    "A random confection hand-rolled by Eddy in spare time\n",
    "\n",
    "Any bugs are mine. report them to edward.deryckman@mac.com. but they might get ignored.\n",
    "\n",
    "This particular iPython notebook and associated project assets will mostly be used for the submissions for Coursera: Applied Data Science moduled, the last course in professional certificate (IBM) which you can find here:\n",
    "https://www.coursera.org/learn/applied-data-science-capstone"
   ]
  },
  {
   "cell_type": "code",
   "execution_count": 2,
   "metadata": {},
   "outputs": [],
   "source": [
    "import pandas as pd\n",
    "import numpy as np"
   ]
  },
  {
   "cell_type": "markdown",
   "metadata": {},
   "source": [
    "### Week 1: Hello World example ###\n",
    "\n",
    "This is my markdown\n",
    "* it is not p**r**eTTy\n",
    "* but it is _fast_\n",
    "+ What ? you wanted _nicer_ markDown ? - then take the MarkdDown course!"
   ]
  },
  {
   "cell_type": "code",
   "execution_count": 18,
   "metadata": {},
   "outputs": [
    {
     "name": "stdout",
     "output_type": "stream",
     "text": [
      "Hello Capstone Project Course!\n",
      "  Hello Capstone Project Course!\n",
      "    Hello Capstone Project Course!\n",
      "      Hello Capstone Project Course!\n",
      "        Hello Capstone Project Course!\n",
      "          Hello Capstone Project Course!\n",
      "            Hello Capstone Project Course!\n",
      "              Hello Capstone Project Course!\n",
      "                Hello Capstone Project Course!\n",
      "                  Hello Capstone Project Course!\n"
     ]
    }
   ],
   "source": [
    "message = \"Hello Capstone Project Course!\"\n",
    "\n",
    "for i in range (0,10):\n",
    "    print(message)\n",
    "    message = '  ' + message\n",
    "    "
   ]
  },
  {
   "cell_type": "markdown",
   "metadata": {},
   "source": [
    "**Pandas, Numpy**\n",
    "\n",
    "Show reader that pandas and numpy are working: \n",
    "\n",
    "test them"
   ]
  },
  {
   "cell_type": "code",
   "execution_count": 4,
   "metadata": {},
   "outputs": [],
   "source": [
    "data = {'Country': ['Belgium', 'India', 'Brazil'],\n",
    " 'Capital': ['Brussels', 'New Delhi', 'Brasília'],\n",
    " 'Population': [11190846, 1303171035, 207847528]}\n",
    "df_data = pd.DataFrame(data,\n",
    " columns=['Country', 'Capital', 'Population'])"
   ]
  },
  {
   "cell_type": "code",
   "execution_count": 6,
   "metadata": {},
   "outputs": [
    {
     "data": {
      "text/plain": [
       "(3, 3)"
      ]
     },
     "execution_count": 6,
     "metadata": {},
     "output_type": "execute_result"
    }
   ],
   "source": [
    "df_data.shape"
   ]
  },
  {
   "cell_type": "code",
   "execution_count": 10,
   "metadata": {},
   "outputs": [
    {
     "data": {
      "text/plain": [
       "array([[0.22197706, 0.14642494, 0.62442765, 0.21948364],\n",
       "       [0.46574174, 0.18211635, 0.23111307, 0.31459799],\n",
       "       [0.23949092, 0.10659536, 0.38200014, 0.542862  ]])"
      ]
     },
     "execution_count": 10,
     "metadata": {},
     "output_type": "execute_result"
    }
   ],
   "source": [
    " np.random.random((3,4))"
   ]
  },
  {
   "cell_type": "code",
   "execution_count": null,
   "metadata": {},
   "outputs": [],
   "source": []
  }
 ],
 "metadata": {
  "kernelspec": {
   "display_name": "Python",
   "language": "python",
   "name": "conda-env-python-py"
  },
  "language_info": {
   "codemirror_mode": {
    "name": "ipython",
    "version": 3
   },
   "file_extension": ".py",
   "mimetype": "text/x-python",
   "name": "python",
   "nbconvert_exporter": "python",
   "pygments_lexer": "ipython3",
   "version": "3.6.12"
  }
 },
 "nbformat": 4,
 "nbformat_minor": 4
}
